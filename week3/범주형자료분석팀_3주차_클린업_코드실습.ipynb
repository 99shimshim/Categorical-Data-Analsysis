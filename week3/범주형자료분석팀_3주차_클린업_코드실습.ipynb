{
 "cells": [
  {
   "cell_type": "markdown",
   "id": "f4e44cb3",
   "metadata": {},
   "source": [
    "# 1. Encoding"
   ]
  },
  {
   "cell_type": "markdown",
   "id": "cf461329",
   "metadata": {},
   "source": [
    "## 0. 데이터 불러오기"
   ]
  },
  {
   "cell_type": "code",
   "execution_count": 2,
   "id": "6d4cf7aa",
   "metadata": {},
   "outputs": [],
   "source": [
    "import warnings  \n",
    "warnings.filterwarnings(action=\"ignore\")"
   ]
  },
  {
   "cell_type": "code",
   "execution_count": 3,
   "id": "8e094e01",
   "metadata": {},
   "outputs": [],
   "source": [
    "# [함수 설명]\n",
    "#import = 모듈 불러오기 (R에서 library()와 동일합니다)\n",
    "# as = import한 모듈를 code내에서 어떻게 지칭할 것인지 설정\n",
    "import pandas as pd  \n",
    "import os\n",
    "import numpy as np\n",
    "\n",
    "os.chdir(\"C://Users//user//Desktop/크롬드라이버/\") # os.chdir = R에서의 setwd() 와 동일\n",
    "data = pd.read_csv('Social_Network_Ads.csv') # read_csv = csv를 불러오는 함수 "
   ]
  },
  {
   "cell_type": "code",
   "execution_count": 4,
   "id": "b8721331",
   "metadata": {},
   "outputs": [
    {
     "data": {
      "text/html": [
       "<div>\n",
       "<style scoped>\n",
       "    .dataframe tbody tr th:only-of-type {\n",
       "        vertical-align: middle;\n",
       "    }\n",
       "\n",
       "    .dataframe tbody tr th {\n",
       "        vertical-align: top;\n",
       "    }\n",
       "\n",
       "    .dataframe thead th {\n",
       "        text-align: right;\n",
       "    }\n",
       "</style>\n",
       "<table border=\"1\" class=\"dataframe\">\n",
       "  <thead>\n",
       "    <tr style=\"text-align: right;\">\n",
       "      <th></th>\n",
       "      <th>User ID</th>\n",
       "      <th>Gender</th>\n",
       "      <th>Age</th>\n",
       "      <th>EstimatedSalary</th>\n",
       "      <th>Purchased</th>\n",
       "    </tr>\n",
       "  </thead>\n",
       "  <tbody>\n",
       "    <tr>\n",
       "      <th>0</th>\n",
       "      <td>15624510</td>\n",
       "      <td>Male</td>\n",
       "      <td>19</td>\n",
       "      <td>19000</td>\n",
       "      <td>0</td>\n",
       "    </tr>\n",
       "    <tr>\n",
       "      <th>1</th>\n",
       "      <td>15810944</td>\n",
       "      <td>Male</td>\n",
       "      <td>35</td>\n",
       "      <td>20000</td>\n",
       "      <td>0</td>\n",
       "    </tr>\n",
       "    <tr>\n",
       "      <th>2</th>\n",
       "      <td>15668575</td>\n",
       "      <td>Female</td>\n",
       "      <td>26</td>\n",
       "      <td>43000</td>\n",
       "      <td>0</td>\n",
       "    </tr>\n",
       "    <tr>\n",
       "      <th>3</th>\n",
       "      <td>15603246</td>\n",
       "      <td>Female</td>\n",
       "      <td>27</td>\n",
       "      <td>57000</td>\n",
       "      <td>0</td>\n",
       "    </tr>\n",
       "    <tr>\n",
       "      <th>4</th>\n",
       "      <td>15804002</td>\n",
       "      <td>Male</td>\n",
       "      <td>19</td>\n",
       "      <td>76000</td>\n",
       "      <td>0</td>\n",
       "    </tr>\n",
       "    <tr>\n",
       "      <th>...</th>\n",
       "      <td>...</td>\n",
       "      <td>...</td>\n",
       "      <td>...</td>\n",
       "      <td>...</td>\n",
       "      <td>...</td>\n",
       "    </tr>\n",
       "    <tr>\n",
       "      <th>395</th>\n",
       "      <td>15691863</td>\n",
       "      <td>Female</td>\n",
       "      <td>46</td>\n",
       "      <td>41000</td>\n",
       "      <td>1</td>\n",
       "    </tr>\n",
       "    <tr>\n",
       "      <th>396</th>\n",
       "      <td>15706071</td>\n",
       "      <td>Male</td>\n",
       "      <td>51</td>\n",
       "      <td>23000</td>\n",
       "      <td>1</td>\n",
       "    </tr>\n",
       "    <tr>\n",
       "      <th>397</th>\n",
       "      <td>15654296</td>\n",
       "      <td>Female</td>\n",
       "      <td>50</td>\n",
       "      <td>20000</td>\n",
       "      <td>1</td>\n",
       "    </tr>\n",
       "    <tr>\n",
       "      <th>398</th>\n",
       "      <td>15755018</td>\n",
       "      <td>Male</td>\n",
       "      <td>36</td>\n",
       "      <td>33000</td>\n",
       "      <td>0</td>\n",
       "    </tr>\n",
       "    <tr>\n",
       "      <th>399</th>\n",
       "      <td>15594041</td>\n",
       "      <td>Female</td>\n",
       "      <td>49</td>\n",
       "      <td>36000</td>\n",
       "      <td>1</td>\n",
       "    </tr>\n",
       "  </tbody>\n",
       "</table>\n",
       "<p>400 rows × 5 columns</p>\n",
       "</div>"
      ],
      "text/plain": [
       "      User ID  Gender  Age  EstimatedSalary  Purchased\n",
       "0    15624510    Male   19            19000          0\n",
       "1    15810944    Male   35            20000          0\n",
       "2    15668575  Female   26            43000          0\n",
       "3    15603246  Female   27            57000          0\n",
       "4    15804002    Male   19            76000          0\n",
       "..        ...     ...  ...              ...        ...\n",
       "395  15691863  Female   46            41000          1\n",
       "396  15706071    Male   51            23000          1\n",
       "397  15654296  Female   50            20000          1\n",
       "398  15755018    Male   36            33000          0\n",
       "399  15594041  Female   49            36000          1\n",
       "\n",
       "[400 rows x 5 columns]"
      ]
     },
     "execution_count": 4,
     "metadata": {},
     "output_type": "execute_result"
    }
   ],
   "source": [
    "data"
   ]
  },
  {
   "cell_type": "markdown",
   "id": "01994bcc",
   "metadata": {},
   "source": [
    "*만약 해당 모듈을 설치하지 않았다면, import~를 적기에 앞서 <br>\n",
    "!pip install (import함수안에 들어가는 모듈명) 형식으로 적어서 설치를 진행해주세요! <br>\n",
    "ex) sklearn.preprocessing 설치 = !pip install sklearn.preprocessing <br>\n",
    "이후 import sklearn.proprocessing ~ 진행!*"
   ]
  },
  {
   "cell_type": "markdown",
   "id": "3b0f738b",
   "metadata": {},
   "source": [
    "- ### **데이터 변형**"
   ]
  },
  {
   "cell_type": "code",
   "execution_count": 5,
   "id": "b7ad580f",
   "metadata": {},
   "outputs": [],
   "source": [
    "#수치형 변수 Age를 6개의 수준으로 구성된 범주형 변수로 변환\n",
    "data['group_Age']= pd.cut(x=data['Age'],bins=6,labels = ['very young','young','less young','less old','old','very old '])\n",
    "\n",
    "#필요없는 변수 지우기 (drop 함수)\n",
    "data.drop(['User ID', 'Age'],axis=1,inplace=True)\n",
    "\n",
    "#명목형 변수 임의 생성 (Region) - region이란 변수에서 400개 중복 추출\n",
    "region = ['A','B','C','D']\n",
    "import random\n",
    "data['Region'] = [random.choice(region)for i in range(400)]\n",
    "\n",
    "data=data.copy() #우리가 실제로 이후 모델에 적합할 데이터\n",
    "data_1=data.copy() #적합시킬 데이터가 변하지 않도록 복사본 저장 = copy() 함수"
   ]
  },
  {
   "cell_type": "code",
   "execution_count": 6,
   "id": "6ba34eca",
   "metadata": {},
   "outputs": [
    {
     "data": {
      "text/plain": [
       "Gender             0\n",
       "EstimatedSalary    0\n",
       "Purchased          0\n",
       "group_Age          0\n",
       "Region             0\n",
       "dtype: int64"
      ]
     },
     "execution_count": 6,
     "metadata": {},
     "output_type": "execute_result"
    }
   ],
   "source": [
    "#결측치 확인\n",
    "#변수 마다 NA값이 존재하는지 확인 - 존재하지 않음\n",
    "data.isna().sum() "
   ]
  },
  {
   "cell_type": "code",
   "execution_count": 7,
   "id": "a9ae7470",
   "metadata": {},
   "outputs": [
    {
     "data": {
      "text/plain": [
       "(400, 5)"
      ]
     },
     "execution_count": 7,
     "metadata": {},
     "output_type": "execute_result"
    }
   ],
   "source": [
    "data.shape #shpae() = 데이터셋의 행/열 수 확인"
   ]
  },
  {
   "cell_type": "markdown",
   "id": "7fb8dde0",
   "metadata": {},
   "source": [
    "- ### **데이터 확인**"
   ]
  },
  {
   "cell_type": "code",
   "execution_count": 8,
   "id": "7f3ca037",
   "metadata": {},
   "outputs": [
    {
     "data": {
      "text/html": [
       "<div>\n",
       "<style scoped>\n",
       "    .dataframe tbody tr th:only-of-type {\n",
       "        vertical-align: middle;\n",
       "    }\n",
       "\n",
       "    .dataframe tbody tr th {\n",
       "        vertical-align: top;\n",
       "    }\n",
       "\n",
       "    .dataframe thead th {\n",
       "        text-align: right;\n",
       "    }\n",
       "</style>\n",
       "<table border=\"1\" class=\"dataframe\">\n",
       "  <thead>\n",
       "    <tr style=\"text-align: right;\">\n",
       "      <th></th>\n",
       "      <th>Gender</th>\n",
       "      <th>EstimatedSalary</th>\n",
       "      <th>Purchased</th>\n",
       "      <th>group_Age</th>\n",
       "      <th>Region</th>\n",
       "    </tr>\n",
       "  </thead>\n",
       "  <tbody>\n",
       "    <tr>\n",
       "      <th>0</th>\n",
       "      <td>Male</td>\n",
       "      <td>19000</td>\n",
       "      <td>0</td>\n",
       "      <td>very young</td>\n",
       "      <td>C</td>\n",
       "    </tr>\n",
       "    <tr>\n",
       "      <th>1</th>\n",
       "      <td>Male</td>\n",
       "      <td>20000</td>\n",
       "      <td>0</td>\n",
       "      <td>less young</td>\n",
       "      <td>B</td>\n",
       "    </tr>\n",
       "    <tr>\n",
       "      <th>2</th>\n",
       "      <td>Female</td>\n",
       "      <td>43000</td>\n",
       "      <td>0</td>\n",
       "      <td>young</td>\n",
       "      <td>B</td>\n",
       "    </tr>\n",
       "    <tr>\n",
       "      <th>3</th>\n",
       "      <td>Female</td>\n",
       "      <td>57000</td>\n",
       "      <td>0</td>\n",
       "      <td>young</td>\n",
       "      <td>B</td>\n",
       "    </tr>\n",
       "    <tr>\n",
       "      <th>4</th>\n",
       "      <td>Male</td>\n",
       "      <td>76000</td>\n",
       "      <td>0</td>\n",
       "      <td>very young</td>\n",
       "      <td>C</td>\n",
       "    </tr>\n",
       "  </tbody>\n",
       "</table>\n",
       "</div>"
      ],
      "text/plain": [
       "   Gender  EstimatedSalary  Purchased   group_Age Region\n",
       "0    Male            19000          0  very young      C\n",
       "1    Male            20000          0  less young      B\n",
       "2  Female            43000          0       young      B\n",
       "3  Female            57000          0       young      B\n",
       "4    Male            76000          0  very young      C"
      ]
     },
     "execution_count": 8,
     "metadata": {},
     "output_type": "execute_result"
    }
   ],
   "source": [
    "#데이터가 어떻게 구성되어 있는지 확인해보자!\n",
    "data.head() # = R에서의 head함수"
   ]
  },
  {
   "cell_type": "code",
   "execution_count": 9,
   "id": "e7eb433b",
   "metadata": {},
   "outputs": [
    {
     "data": {
      "text/plain": [
       "Gender               object\n",
       "EstimatedSalary       int64\n",
       "Purchased             int64\n",
       "group_Age          category\n",
       "Region               object\n",
       "dtype: object"
      ]
     },
     "execution_count": 9,
     "metadata": {},
     "output_type": "execute_result"
    }
   ],
   "source": [
    "# 변수별 형태 확인\n",
    "data.dtypes "
   ]
  },
  {
   "cell_type": "markdown",
   "id": "60dfba5f",
   "metadata": {},
   "source": [
    "#### [데이터 설명] ####\n",
    " **1) 반응변수(Y)** <br>\n",
    "    - Purchased : 소비자가 해당 물건을 구매했는지 안했는지 (Binary)<br>\n",
    "    (1 = 구매 / 0 = 구매하지 않음)\n",
    "    \n",
    " **2) 설명변수(X)** <br>\n",
    "    - Gender : 소비자의 성별<br>\n",
    "    - EstimatedSalary : 소비자의 봉급<br>\n",
    "    - group_Age : 소비자의 나이 범주<br>\n",
    "    - Region : 소비자가 거주하는 지역 (임의 생성) - 나중에 모델을 적합 시에는 제외!"
   ]
  },
  {
   "cell_type": "markdown",
   "id": "438c8dea",
   "metadata": {},
   "source": [
    "## 1. 인코딩"
   ]
  },
  {
   "cell_type": "markdown",
   "id": "f7caa230",
   "metadata": {},
   "source": [
    "### 1) One-Hot Encoding - 변수 Region"
   ]
  },
  {
   "cell_type": "code",
   "execution_count": 10,
   "id": "fdac0908",
   "metadata": {},
   "outputs": [
    {
     "data": {
      "text/html": [
       "<div>\n",
       "<style scoped>\n",
       "    .dataframe tbody tr th:only-of-type {\n",
       "        vertical-align: middle;\n",
       "    }\n",
       "\n",
       "    .dataframe tbody tr th {\n",
       "        vertical-align: top;\n",
       "    }\n",
       "\n",
       "    .dataframe thead th {\n",
       "        text-align: right;\n",
       "    }\n",
       "</style>\n",
       "<table border=\"1\" class=\"dataframe\">\n",
       "  <thead>\n",
       "    <tr style=\"text-align: right;\">\n",
       "      <th></th>\n",
       "      <th>Gender</th>\n",
       "      <th>EstimatedSalary</th>\n",
       "      <th>Purchased</th>\n",
       "      <th>group_Age</th>\n",
       "      <th>Region_A</th>\n",
       "      <th>Region_B</th>\n",
       "      <th>Region_C</th>\n",
       "      <th>Region_D</th>\n",
       "    </tr>\n",
       "  </thead>\n",
       "  <tbody>\n",
       "    <tr>\n",
       "      <th>0</th>\n",
       "      <td>Male</td>\n",
       "      <td>19000</td>\n",
       "      <td>0</td>\n",
       "      <td>very young</td>\n",
       "      <td>0</td>\n",
       "      <td>0</td>\n",
       "      <td>1</td>\n",
       "      <td>0</td>\n",
       "    </tr>\n",
       "    <tr>\n",
       "      <th>1</th>\n",
       "      <td>Male</td>\n",
       "      <td>20000</td>\n",
       "      <td>0</td>\n",
       "      <td>less young</td>\n",
       "      <td>0</td>\n",
       "      <td>1</td>\n",
       "      <td>0</td>\n",
       "      <td>0</td>\n",
       "    </tr>\n",
       "    <tr>\n",
       "      <th>2</th>\n",
       "      <td>Female</td>\n",
       "      <td>43000</td>\n",
       "      <td>0</td>\n",
       "      <td>young</td>\n",
       "      <td>0</td>\n",
       "      <td>1</td>\n",
       "      <td>0</td>\n",
       "      <td>0</td>\n",
       "    </tr>\n",
       "    <tr>\n",
       "      <th>3</th>\n",
       "      <td>Female</td>\n",
       "      <td>57000</td>\n",
       "      <td>0</td>\n",
       "      <td>young</td>\n",
       "      <td>0</td>\n",
       "      <td>1</td>\n",
       "      <td>0</td>\n",
       "      <td>0</td>\n",
       "    </tr>\n",
       "    <tr>\n",
       "      <th>4</th>\n",
       "      <td>Male</td>\n",
       "      <td>76000</td>\n",
       "      <td>0</td>\n",
       "      <td>very young</td>\n",
       "      <td>0</td>\n",
       "      <td>0</td>\n",
       "      <td>1</td>\n",
       "      <td>0</td>\n",
       "    </tr>\n",
       "  </tbody>\n",
       "</table>\n",
       "</div>"
      ],
      "text/plain": [
       "   Gender  EstimatedSalary  Purchased   group_Age  Region_A  Region_B  \\\n",
       "0    Male            19000          0  very young         0         0   \n",
       "1    Male            20000          0  less young         0         1   \n",
       "2  Female            43000          0       young         0         1   \n",
       "3  Female            57000          0       young         0         1   \n",
       "4    Male            76000          0  very young         0         0   \n",
       "\n",
       "   Region_C  Region_D  \n",
       "0         1         0  \n",
       "1         0         0  \n",
       "2         0         0  \n",
       "3         0         0  \n",
       "4         1         0  "
      ]
     },
     "execution_count": 10,
     "metadata": {},
     "output_type": "execute_result"
    }
   ],
   "source": [
    "# 1.pandas 모듈의의 get_dummies 함수 활용\n",
    "\n",
    "#기존 데이터가 바뀌지 않도록 데이터명을 달리함(data_dummy1)\n",
    "data_dummy = pd.get_dummies(data=data,columns=['Region'],prefix = 'Region')\n",
    "data_dummy.head()\n",
    "#인코딩 결과 Region변수 내 모든 수준에 대하여 가변수가 생성되었음을 알 수 있음 "
   ]
  },
  {
   "cell_type": "code",
   "execution_count": 11,
   "id": "f4b82880",
   "metadata": {},
   "outputs": [
    {
     "data": {
      "text/html": [
       "<div>\n",
       "<style scoped>\n",
       "    .dataframe tbody tr th:only-of-type {\n",
       "        vertical-align: middle;\n",
       "    }\n",
       "\n",
       "    .dataframe tbody tr th {\n",
       "        vertical-align: top;\n",
       "    }\n",
       "\n",
       "    .dataframe thead th {\n",
       "        text-align: right;\n",
       "    }\n",
       "</style>\n",
       "<table border=\"1\" class=\"dataframe\">\n",
       "  <thead>\n",
       "    <tr style=\"text-align: right;\">\n",
       "      <th></th>\n",
       "      <th>Gender</th>\n",
       "      <th>EstimatedSalary</th>\n",
       "      <th>Purchased</th>\n",
       "      <th>group_Age</th>\n",
       "      <th>Region_B</th>\n",
       "      <th>Region_C</th>\n",
       "      <th>Region_D</th>\n",
       "    </tr>\n",
       "  </thead>\n",
       "  <tbody>\n",
       "    <tr>\n",
       "      <th>0</th>\n",
       "      <td>Male</td>\n",
       "      <td>19000</td>\n",
       "      <td>0</td>\n",
       "      <td>very young</td>\n",
       "      <td>0.0</td>\n",
       "      <td>1.0</td>\n",
       "      <td>0.0</td>\n",
       "    </tr>\n",
       "    <tr>\n",
       "      <th>1</th>\n",
       "      <td>Male</td>\n",
       "      <td>20000</td>\n",
       "      <td>0</td>\n",
       "      <td>less young</td>\n",
       "      <td>1.0</td>\n",
       "      <td>0.0</td>\n",
       "      <td>0.0</td>\n",
       "    </tr>\n",
       "    <tr>\n",
       "      <th>2</th>\n",
       "      <td>Female</td>\n",
       "      <td>43000</td>\n",
       "      <td>0</td>\n",
       "      <td>young</td>\n",
       "      <td>1.0</td>\n",
       "      <td>0.0</td>\n",
       "      <td>0.0</td>\n",
       "    </tr>\n",
       "    <tr>\n",
       "      <th>3</th>\n",
       "      <td>Female</td>\n",
       "      <td>57000</td>\n",
       "      <td>0</td>\n",
       "      <td>young</td>\n",
       "      <td>1.0</td>\n",
       "      <td>0.0</td>\n",
       "      <td>0.0</td>\n",
       "    </tr>\n",
       "    <tr>\n",
       "      <th>4</th>\n",
       "      <td>Male</td>\n",
       "      <td>76000</td>\n",
       "      <td>0</td>\n",
       "      <td>very young</td>\n",
       "      <td>0.0</td>\n",
       "      <td>1.0</td>\n",
       "      <td>0.0</td>\n",
       "    </tr>\n",
       "  </tbody>\n",
       "</table>\n",
       "</div>"
      ],
      "text/plain": [
       "   Gender  EstimatedSalary  Purchased   group_Age  Region_B  Region_C  \\\n",
       "0    Male            19000          0  very young       0.0       1.0   \n",
       "1    Male            20000          0  less young       1.0       0.0   \n",
       "2  Female            43000          0       young       1.0       0.0   \n",
       "3  Female            57000          0       young       1.0       0.0   \n",
       "4    Male            76000          0  very young       0.0       1.0   \n",
       "\n",
       "   Region_D  \n",
       "0       0.0  \n",
       "1       0.0  \n",
       "2       0.0  \n",
       "3       0.0  \n",
       "4       0.0  "
      ]
     },
     "execution_count": 11,
     "metadata": {},
     "output_type": "execute_result"
    }
   ],
   "source": [
    "# 2.sklearn모듈의 OneHotEncoder 함수 활용 - 실제 적용\n",
    "from sklearn.preprocessing import OneHotEncoder\n",
    "#인코딩할 변수를 추출 > 가변수로 구성된 데이터 셋 형성 > 해당 데이터 셋을 원본에 붙여줌\n",
    "\n",
    "#기준범주 제거 : drop = 'first' - 이 조건을 안 적으면 위 encoding과 동일하게 진행!\n",
    "one_encoder = OneHotEncoder(drop='first')\n",
    "one_encoded = pd.DataFrame(one_encoder.fit_transform(data['Region'].values.reshape(-1,1)).toarray(),columns=['Region_B','Region_C','Region_D'])\n",
    "\n",
    "data = pd.concat([data,one_encoded],axis=1).drop(['Region'],axis=1) \n",
    "#concat(axis=1) = R의 cbind() / concat(axis=0) = R의 rbind()\n",
    "data.head()"
   ]
  },
  {
   "cell_type": "markdown",
   "id": "437a6507",
   "metadata": {},
   "source": [
    "### 2) Label Encoding- 변수 Gender"
   ]
  },
  {
   "cell_type": "code",
   "execution_count": 12,
   "id": "7e0ed7e2",
   "metadata": {},
   "outputs": [
    {
     "data": {
      "text/html": [
       "<div>\n",
       "<style scoped>\n",
       "    .dataframe tbody tr th:only-of-type {\n",
       "        vertical-align: middle;\n",
       "    }\n",
       "\n",
       "    .dataframe tbody tr th {\n",
       "        vertical-align: top;\n",
       "    }\n",
       "\n",
       "    .dataframe thead th {\n",
       "        text-align: right;\n",
       "    }\n",
       "</style>\n",
       "<table border=\"1\" class=\"dataframe\">\n",
       "  <thead>\n",
       "    <tr style=\"text-align: right;\">\n",
       "      <th></th>\n",
       "      <th>Gender</th>\n",
       "      <th>EstimatedSalary</th>\n",
       "      <th>Purchased</th>\n",
       "      <th>group_Age</th>\n",
       "      <th>Region_B</th>\n",
       "      <th>Region_C</th>\n",
       "      <th>Region_D</th>\n",
       "    </tr>\n",
       "  </thead>\n",
       "  <tbody>\n",
       "    <tr>\n",
       "      <th>0</th>\n",
       "      <td>1</td>\n",
       "      <td>19000</td>\n",
       "      <td>0</td>\n",
       "      <td>very young</td>\n",
       "      <td>0.0</td>\n",
       "      <td>1.0</td>\n",
       "      <td>0.0</td>\n",
       "    </tr>\n",
       "    <tr>\n",
       "      <th>1</th>\n",
       "      <td>1</td>\n",
       "      <td>20000</td>\n",
       "      <td>0</td>\n",
       "      <td>less young</td>\n",
       "      <td>1.0</td>\n",
       "      <td>0.0</td>\n",
       "      <td>0.0</td>\n",
       "    </tr>\n",
       "    <tr>\n",
       "      <th>2</th>\n",
       "      <td>0</td>\n",
       "      <td>43000</td>\n",
       "      <td>0</td>\n",
       "      <td>young</td>\n",
       "      <td>1.0</td>\n",
       "      <td>0.0</td>\n",
       "      <td>0.0</td>\n",
       "    </tr>\n",
       "    <tr>\n",
       "      <th>3</th>\n",
       "      <td>0</td>\n",
       "      <td>57000</td>\n",
       "      <td>0</td>\n",
       "      <td>young</td>\n",
       "      <td>1.0</td>\n",
       "      <td>0.0</td>\n",
       "      <td>0.0</td>\n",
       "    </tr>\n",
       "    <tr>\n",
       "      <th>4</th>\n",
       "      <td>1</td>\n",
       "      <td>76000</td>\n",
       "      <td>0</td>\n",
       "      <td>very young</td>\n",
       "      <td>0.0</td>\n",
       "      <td>1.0</td>\n",
       "      <td>0.0</td>\n",
       "    </tr>\n",
       "  </tbody>\n",
       "</table>\n",
       "</div>"
      ],
      "text/plain": [
       "   Gender  EstimatedSalary  Purchased   group_Age  Region_B  Region_C  \\\n",
       "0       1            19000          0  very young       0.0       1.0   \n",
       "1       1            20000          0  less young       1.0       0.0   \n",
       "2       0            43000          0       young       1.0       0.0   \n",
       "3       0            57000          0       young       1.0       0.0   \n",
       "4       1            76000          0  very young       0.0       1.0   \n",
       "\n",
       "   Region_D  \n",
       "0       0.0  \n",
       "1       0.0  \n",
       "2       0.0  \n",
       "3       0.0  \n",
       "4       0.0  "
      ]
     },
     "execution_count": 12,
     "metadata": {},
     "output_type": "execute_result"
    }
   ],
   "source": [
    "# 1.sklearn모듈의 LabelEncoder 함수 활용 - 실제 적용\n",
    "from sklearn.preprocessing import LabelEncoder \n",
    "label_encoder = LabelEncoder()\n",
    "data['Gender'] = label_encoder.fit_transform(data['Gender'])\n",
    "\n",
    "data.head() #Male이 1로 Female이 0으로 인코딩 되었음을 확인"
   ]
  },
  {
   "cell_type": "markdown",
   "id": "bfd1e681",
   "metadata": {},
   "source": [
    "### 3) Ordinal Encoding- 변수 group_Age"
   ]
  },
  {
   "cell_type": "code",
   "execution_count": 13,
   "id": "9e384299",
   "metadata": {},
   "outputs": [
    {
     "data": {
      "text/plain": [
       "0      very young\n",
       "1      less young\n",
       "2           young\n",
       "3           young\n",
       "4      very young\n",
       "          ...    \n",
       "395      less old\n",
       "396           old\n",
       "397           old\n",
       "398    less young\n",
       "399           old\n",
       "Name: group_Age, Length: 400, dtype: category\n",
       "Categories (6, object): ['very young' < 'young' < 'less young' < 'less old' < 'old' < 'very old ']"
      ]
     },
     "execution_count": 13,
     "metadata": {},
     "output_type": "execute_result"
    }
   ],
   "source": [
    "data['group_Age']"
   ]
  },
  {
   "cell_type": "code",
   "execution_count": 14,
   "id": "aaccdcf7",
   "metadata": {},
   "outputs": [
    {
     "data": {
      "text/html": [
       "<div>\n",
       "<style scoped>\n",
       "    .dataframe tbody tr th:only-of-type {\n",
       "        vertical-align: middle;\n",
       "    }\n",
       "\n",
       "    .dataframe tbody tr th {\n",
       "        vertical-align: top;\n",
       "    }\n",
       "\n",
       "    .dataframe thead th {\n",
       "        text-align: right;\n",
       "    }\n",
       "</style>\n",
       "<table border=\"1\" class=\"dataframe\">\n",
       "  <thead>\n",
       "    <tr style=\"text-align: right;\">\n",
       "      <th></th>\n",
       "      <th>Gender</th>\n",
       "      <th>EstimatedSalary</th>\n",
       "      <th>Purchased</th>\n",
       "      <th>group_Age</th>\n",
       "      <th>Region</th>\n",
       "    </tr>\n",
       "  </thead>\n",
       "  <tbody>\n",
       "    <tr>\n",
       "      <th>0</th>\n",
       "      <td>Male</td>\n",
       "      <td>19000</td>\n",
       "      <td>0</td>\n",
       "      <td>1.0</td>\n",
       "      <td>C</td>\n",
       "    </tr>\n",
       "    <tr>\n",
       "      <th>1</th>\n",
       "      <td>Male</td>\n",
       "      <td>20000</td>\n",
       "      <td>0</td>\n",
       "      <td>3.0</td>\n",
       "      <td>B</td>\n",
       "    </tr>\n",
       "    <tr>\n",
       "      <th>2</th>\n",
       "      <td>Female</td>\n",
       "      <td>43000</td>\n",
       "      <td>0</td>\n",
       "      <td>2.0</td>\n",
       "      <td>B</td>\n",
       "    </tr>\n",
       "    <tr>\n",
       "      <th>3</th>\n",
       "      <td>Female</td>\n",
       "      <td>57000</td>\n",
       "      <td>0</td>\n",
       "      <td>2.0</td>\n",
       "      <td>B</td>\n",
       "    </tr>\n",
       "    <tr>\n",
       "      <th>4</th>\n",
       "      <td>Male</td>\n",
       "      <td>76000</td>\n",
       "      <td>0</td>\n",
       "      <td>1.0</td>\n",
       "      <td>C</td>\n",
       "    </tr>\n",
       "  </tbody>\n",
       "</table>\n",
       "</div>"
      ],
      "text/plain": [
       "   Gender  EstimatedSalary  Purchased  group_Age Region\n",
       "0    Male            19000          0        1.0      C\n",
       "1    Male            20000          0        3.0      B\n",
       "2  Female            43000          0        2.0      B\n",
       "3  Female            57000          0        2.0      B\n",
       "4    Male            76000          0        1.0      C"
      ]
     },
     "execution_count": 14,
     "metadata": {},
     "output_type": "execute_result"
    }
   ],
   "source": [
    "# 1.map함수 사용\n",
    "#범주형 변수의 수준들의 순서를 입력하는 과정 필요\n",
    "seq = {'very young' : 1, 'young' : 2, 'less young' : 3, 'less old' : 4, 'old' : 5 , 'very old':6}\n",
    "data_1['group_Age'] = data_1['group_Age'].map(seq)\n",
    "data_1.head()"
   ]
  },
  {
   "cell_type": "code",
   "execution_count": 15,
   "id": "0087fbad",
   "metadata": {},
   "outputs": [
    {
     "data": {
      "text/html": [
       "<div>\n",
       "<style scoped>\n",
       "    .dataframe tbody tr th:only-of-type {\n",
       "        vertical-align: middle;\n",
       "    }\n",
       "\n",
       "    .dataframe tbody tr th {\n",
       "        vertical-align: top;\n",
       "    }\n",
       "\n",
       "    .dataframe thead th {\n",
       "        text-align: right;\n",
       "    }\n",
       "</style>\n",
       "<table border=\"1\" class=\"dataframe\">\n",
       "  <thead>\n",
       "    <tr style=\"text-align: right;\">\n",
       "      <th></th>\n",
       "      <th>Gender</th>\n",
       "      <th>EstimatedSalary</th>\n",
       "      <th>Purchased</th>\n",
       "      <th>group_Age</th>\n",
       "      <th>Region_B</th>\n",
       "      <th>Region_C</th>\n",
       "      <th>Region_D</th>\n",
       "    </tr>\n",
       "  </thead>\n",
       "  <tbody>\n",
       "    <tr>\n",
       "      <th>0</th>\n",
       "      <td>1</td>\n",
       "      <td>19000</td>\n",
       "      <td>0</td>\n",
       "      <td>1</td>\n",
       "      <td>0.0</td>\n",
       "      <td>1.0</td>\n",
       "      <td>0.0</td>\n",
       "    </tr>\n",
       "    <tr>\n",
       "      <th>1</th>\n",
       "      <td>1</td>\n",
       "      <td>20000</td>\n",
       "      <td>0</td>\n",
       "      <td>3</td>\n",
       "      <td>1.0</td>\n",
       "      <td>0.0</td>\n",
       "      <td>0.0</td>\n",
       "    </tr>\n",
       "    <tr>\n",
       "      <th>2</th>\n",
       "      <td>0</td>\n",
       "      <td>43000</td>\n",
       "      <td>0</td>\n",
       "      <td>2</td>\n",
       "      <td>1.0</td>\n",
       "      <td>0.0</td>\n",
       "      <td>0.0</td>\n",
       "    </tr>\n",
       "    <tr>\n",
       "      <th>3</th>\n",
       "      <td>0</td>\n",
       "      <td>57000</td>\n",
       "      <td>0</td>\n",
       "      <td>2</td>\n",
       "      <td>1.0</td>\n",
       "      <td>0.0</td>\n",
       "      <td>0.0</td>\n",
       "    </tr>\n",
       "    <tr>\n",
       "      <th>4</th>\n",
       "      <td>1</td>\n",
       "      <td>76000</td>\n",
       "      <td>0</td>\n",
       "      <td>1</td>\n",
       "      <td>0.0</td>\n",
       "      <td>1.0</td>\n",
       "      <td>0.0</td>\n",
       "    </tr>\n",
       "  </tbody>\n",
       "</table>\n",
       "</div>"
      ],
      "text/plain": [
       "   Gender  EstimatedSalary  Purchased  group_Age  Region_B  Region_C  Region_D\n",
       "0       1            19000          0          1       0.0       1.0       0.0\n",
       "1       1            20000          0          3       1.0       0.0       0.0\n",
       "2       0            43000          0          2       1.0       0.0       0.0\n",
       "3       0            57000          0          2       1.0       0.0       0.0\n",
       "4       1            76000          0          1       0.0       1.0       0.0"
      ]
     },
     "execution_count": 15,
     "metadata": {},
     "output_type": "execute_result"
    }
   ],
   "source": [
    "# 2.category_encoders모듈 OrdinalEncoder - 실제 적용\n",
    "from category_encoders import OrdinalEncoder\n",
    "ordinal_encoder = OrdinalEncoder()\n",
    "data['group_Age'] = ordinal_encoder.fit_transform(data['group_Age'])\n",
    "data.head()\n",
    "\n",
    "#OrdinalEncoder를 사용하기 위해선 변수가 '순서가 있는 범주형(category)변수' 여야 한다!\n",
    "#group_Age같은 경우 데이터 변형 part에서 변수를 생성할 때 순서를 지정\n",
    "#그러면, 일반 명목형 변수에 순서를 집어넣을 순 없을까? - 있다!"
   ]
  },
  {
   "cell_type": "code",
   "execution_count": 16,
   "id": "33ee2a34",
   "metadata": {},
   "outputs": [
    {
     "data": {
      "text/plain": [
       "0      C\n",
       "1      B\n",
       "2      B\n",
       "3      B\n",
       "4      C\n",
       "      ..\n",
       "395    A\n",
       "396    B\n",
       "397    D\n",
       "398    C\n",
       "399    C\n",
       "Name: Region, Length: 400, dtype: category\n",
       "Categories (4, object): ['A' < 'B' < 'C' < 'D']"
      ]
     },
     "execution_count": 16,
     "metadata": {},
     "output_type": "execute_result"
    }
   ],
   "source": [
    "# 3.pd.Categorical() 함수 사용 - ordered = True\n",
    "# 명목형 자료에 순서 정보 넣기 - 변수 Region 활용\n",
    "data_1['Region'] = pd.Categorical(data_1['Region'],categories = ['A','B','C','D'],ordered=True)\n",
    "data_1['Region']"
   ]
  },
  {
   "cell_type": "markdown",
   "id": "b1fb8425",
   "metadata": {},
   "source": [
    "### 5) Mean Encoding"
   ]
  },
  {
   "cell_type": "code",
   "execution_count": 17,
   "id": "46d70ee0",
   "metadata": {},
   "outputs": [
    {
     "data": {
      "text/html": [
       "<div>\n",
       "<style scoped>\n",
       "    .dataframe tbody tr th:only-of-type {\n",
       "        vertical-align: middle;\n",
       "    }\n",
       "\n",
       "    .dataframe tbody tr th {\n",
       "        vertical-align: top;\n",
       "    }\n",
       "\n",
       "    .dataframe thead th {\n",
       "        text-align: right;\n",
       "    }\n",
       "</style>\n",
       "<table border=\"1\" class=\"dataframe\">\n",
       "  <thead>\n",
       "    <tr style=\"text-align: right;\">\n",
       "      <th></th>\n",
       "      <th>Gender</th>\n",
       "      <th>EstimatedSalary</th>\n",
       "      <th>Region</th>\n",
       "    </tr>\n",
       "  </thead>\n",
       "  <tbody>\n",
       "    <tr>\n",
       "      <th>0</th>\n",
       "      <td>Male</td>\n",
       "      <td>19000</td>\n",
       "      <td>C</td>\n",
       "    </tr>\n",
       "    <tr>\n",
       "      <th>1</th>\n",
       "      <td>Male</td>\n",
       "      <td>20000</td>\n",
       "      <td>B</td>\n",
       "    </tr>\n",
       "    <tr>\n",
       "      <th>2</th>\n",
       "      <td>Female</td>\n",
       "      <td>43000</td>\n",
       "      <td>B</td>\n",
       "    </tr>\n",
       "    <tr>\n",
       "      <th>3</th>\n",
       "      <td>Female</td>\n",
       "      <td>57000</td>\n",
       "      <td>B</td>\n",
       "    </tr>\n",
       "    <tr>\n",
       "      <th>4</th>\n",
       "      <td>Male</td>\n",
       "      <td>76000</td>\n",
       "      <td>C</td>\n",
       "    </tr>\n",
       "    <tr>\n",
       "      <th>...</th>\n",
       "      <td>...</td>\n",
       "      <td>...</td>\n",
       "      <td>...</td>\n",
       "    </tr>\n",
       "    <tr>\n",
       "      <th>395</th>\n",
       "      <td>Female</td>\n",
       "      <td>41000</td>\n",
       "      <td>A</td>\n",
       "    </tr>\n",
       "    <tr>\n",
       "      <th>396</th>\n",
       "      <td>Male</td>\n",
       "      <td>23000</td>\n",
       "      <td>B</td>\n",
       "    </tr>\n",
       "    <tr>\n",
       "      <th>397</th>\n",
       "      <td>Female</td>\n",
       "      <td>20000</td>\n",
       "      <td>D</td>\n",
       "    </tr>\n",
       "    <tr>\n",
       "      <th>398</th>\n",
       "      <td>Male</td>\n",
       "      <td>33000</td>\n",
       "      <td>C</td>\n",
       "    </tr>\n",
       "    <tr>\n",
       "      <th>399</th>\n",
       "      <td>Female</td>\n",
       "      <td>36000</td>\n",
       "      <td>C</td>\n",
       "    </tr>\n",
       "  </tbody>\n",
       "</table>\n",
       "<p>400 rows × 3 columns</p>\n",
       "</div>"
      ],
      "text/plain": [
       "     Gender  EstimatedSalary Region\n",
       "0      Male            19000      C\n",
       "1      Male            20000      B\n",
       "2    Female            43000      B\n",
       "3    Female            57000      B\n",
       "4      Male            76000      C\n",
       "..      ...              ...    ...\n",
       "395  Female            41000      A\n",
       "396    Male            23000      B\n",
       "397  Female            20000      D\n",
       "398    Male            33000      C\n",
       "399  Female            36000      C\n",
       "\n",
       "[400 rows x 3 columns]"
      ]
     },
     "execution_count": 17,
     "metadata": {},
     "output_type": "execute_result"
    }
   ],
   "source": [
    "#뒤이어 진행할 세 가지 Target Encoding은 모두 Estimated Salary를 \n",
    "#반응변수로 가정하고 설명변수 Region에 대한 Encoding을 진행하겠습니다. \n",
    "data_1.drop(['Purchased', 'group_Age'],axis=1,inplace=True)\n",
    "data_1"
   ]
  },
  {
   "cell_type": "code",
   "execution_count": 18,
   "id": "1d05f46e",
   "metadata": {},
   "outputs": [
    {
     "data": {
      "text/html": [
       "<div>\n",
       "<style scoped>\n",
       "    .dataframe tbody tr th:only-of-type {\n",
       "        vertical-align: middle;\n",
       "    }\n",
       "\n",
       "    .dataframe tbody tr th {\n",
       "        vertical-align: top;\n",
       "    }\n",
       "\n",
       "    .dataframe thead th {\n",
       "        text-align: right;\n",
       "    }\n",
       "</style>\n",
       "<table border=\"1\" class=\"dataframe\">\n",
       "  <thead>\n",
       "    <tr style=\"text-align: right;\">\n",
       "      <th></th>\n",
       "      <th>Gender</th>\n",
       "      <th>EstimatedSalary</th>\n",
       "      <th>Region</th>\n",
       "    </tr>\n",
       "  </thead>\n",
       "  <tbody>\n",
       "    <tr>\n",
       "      <th>0</th>\n",
       "      <td>Male</td>\n",
       "      <td>19000</td>\n",
       "      <td>68059.405941</td>\n",
       "    </tr>\n",
       "    <tr>\n",
       "      <th>1</th>\n",
       "      <td>Male</td>\n",
       "      <td>20000</td>\n",
       "      <td>70843.137255</td>\n",
       "    </tr>\n",
       "    <tr>\n",
       "      <th>2</th>\n",
       "      <td>Female</td>\n",
       "      <td>43000</td>\n",
       "      <td>70843.137255</td>\n",
       "    </tr>\n",
       "    <tr>\n",
       "      <th>3</th>\n",
       "      <td>Female</td>\n",
       "      <td>57000</td>\n",
       "      <td>70843.137255</td>\n",
       "    </tr>\n",
       "    <tr>\n",
       "      <th>4</th>\n",
       "      <td>Male</td>\n",
       "      <td>76000</td>\n",
       "      <td>68059.405941</td>\n",
       "    </tr>\n",
       "    <tr>\n",
       "      <th>...</th>\n",
       "      <td>...</td>\n",
       "      <td>...</td>\n",
       "      <td>...</td>\n",
       "    </tr>\n",
       "    <tr>\n",
       "      <th>395</th>\n",
       "      <td>Female</td>\n",
       "      <td>41000</td>\n",
       "      <td>68192.660550</td>\n",
       "    </tr>\n",
       "    <tr>\n",
       "      <th>396</th>\n",
       "      <td>Male</td>\n",
       "      <td>23000</td>\n",
       "      <td>70843.137255</td>\n",
       "    </tr>\n",
       "    <tr>\n",
       "      <th>397</th>\n",
       "      <td>Female</td>\n",
       "      <td>20000</td>\n",
       "      <td>72318.181818</td>\n",
       "    </tr>\n",
       "    <tr>\n",
       "      <th>398</th>\n",
       "      <td>Male</td>\n",
       "      <td>33000</td>\n",
       "      <td>68059.405941</td>\n",
       "    </tr>\n",
       "    <tr>\n",
       "      <th>399</th>\n",
       "      <td>Female</td>\n",
       "      <td>36000</td>\n",
       "      <td>68059.405941</td>\n",
       "    </tr>\n",
       "  </tbody>\n",
       "</table>\n",
       "<p>400 rows × 3 columns</p>\n",
       "</div>"
      ],
      "text/plain": [
       "     Gender  EstimatedSalary        Region\n",
       "0      Male            19000  68059.405941\n",
       "1      Male            20000  70843.137255\n",
       "2    Female            43000  70843.137255\n",
       "3    Female            57000  70843.137255\n",
       "4      Male            76000  68059.405941\n",
       "..      ...              ...           ...\n",
       "395  Female            41000  68192.660550\n",
       "396    Male            23000  70843.137255\n",
       "397  Female            20000  72318.181818\n",
       "398    Male            33000  68059.405941\n",
       "399  Female            36000  68059.405941\n",
       "\n",
       "[400 rows x 3 columns]"
      ]
     },
     "execution_count": 18,
     "metadata": {},
     "output_type": "execute_result"
    }
   ],
   "source": [
    "#Region 별로 groupby\n",
    "data_mean = data_1.copy()\n",
    "mean_encoding = data_mean.groupby(['Region'])['EstimatedSalary'].mean().to_dict()\n",
    "\n",
    "#map()로 적용\n",
    "data_mean['Region'] = data_mean['Region'].map(mean_encoding)\n",
    "data_mean"
   ]
  },
  {
   "cell_type": "markdown",
   "id": "7595ee08",
   "metadata": {},
   "source": [
    "### 5) Leave One Out Encoding"
   ]
  },
  {
   "cell_type": "code",
   "execution_count": 19,
   "id": "815edcf3",
   "metadata": {},
   "outputs": [
    {
     "data": {
      "text/html": [
       "<div>\n",
       "<style scoped>\n",
       "    .dataframe tbody tr th:only-of-type {\n",
       "        vertical-align: middle;\n",
       "    }\n",
       "\n",
       "    .dataframe tbody tr th {\n",
       "        vertical-align: top;\n",
       "    }\n",
       "\n",
       "    .dataframe thead th {\n",
       "        text-align: right;\n",
       "    }\n",
       "</style>\n",
       "<table border=\"1\" class=\"dataframe\">\n",
       "  <thead>\n",
       "    <tr style=\"text-align: right;\">\n",
       "      <th></th>\n",
       "      <th>Gender</th>\n",
       "      <th>EstimatedSalary</th>\n",
       "      <th>Region</th>\n",
       "    </tr>\n",
       "  </thead>\n",
       "  <tbody>\n",
       "    <tr>\n",
       "      <th>0</th>\n",
       "      <td>Male</td>\n",
       "      <td>19000</td>\n",
       "      <td>68550.000000</td>\n",
       "    </tr>\n",
       "    <tr>\n",
       "      <th>1</th>\n",
       "      <td>Male</td>\n",
       "      <td>20000</td>\n",
       "      <td>71346.534653</td>\n",
       "    </tr>\n",
       "    <tr>\n",
       "      <th>2</th>\n",
       "      <td>Female</td>\n",
       "      <td>43000</td>\n",
       "      <td>71118.811881</td>\n",
       "    </tr>\n",
       "    <tr>\n",
       "      <th>3</th>\n",
       "      <td>Female</td>\n",
       "      <td>57000</td>\n",
       "      <td>70980.198020</td>\n",
       "    </tr>\n",
       "    <tr>\n",
       "      <th>4</th>\n",
       "      <td>Male</td>\n",
       "      <td>76000</td>\n",
       "      <td>67980.000000</td>\n",
       "    </tr>\n",
       "    <tr>\n",
       "      <th>...</th>\n",
       "      <td>...</td>\n",
       "      <td>...</td>\n",
       "      <td>...</td>\n",
       "    </tr>\n",
       "    <tr>\n",
       "      <th>395</th>\n",
       "      <td>Female</td>\n",
       "      <td>41000</td>\n",
       "      <td>68444.444444</td>\n",
       "    </tr>\n",
       "    <tr>\n",
       "      <th>396</th>\n",
       "      <td>Male</td>\n",
       "      <td>23000</td>\n",
       "      <td>71316.831683</td>\n",
       "    </tr>\n",
       "    <tr>\n",
       "      <th>397</th>\n",
       "      <td>Female</td>\n",
       "      <td>20000</td>\n",
       "      <td>72919.540230</td>\n",
       "    </tr>\n",
       "    <tr>\n",
       "      <th>398</th>\n",
       "      <td>Male</td>\n",
       "      <td>33000</td>\n",
       "      <td>68410.000000</td>\n",
       "    </tr>\n",
       "    <tr>\n",
       "      <th>399</th>\n",
       "      <td>Female</td>\n",
       "      <td>36000</td>\n",
       "      <td>68380.000000</td>\n",
       "    </tr>\n",
       "  </tbody>\n",
       "</table>\n",
       "<p>400 rows × 3 columns</p>\n",
       "</div>"
      ],
      "text/plain": [
       "     Gender  EstimatedSalary        Region\n",
       "0      Male            19000  68550.000000\n",
       "1      Male            20000  71346.534653\n",
       "2    Female            43000  71118.811881\n",
       "3    Female            57000  70980.198020\n",
       "4      Male            76000  67980.000000\n",
       "..      ...              ...           ...\n",
       "395  Female            41000  68444.444444\n",
       "396    Male            23000  71316.831683\n",
       "397  Female            20000  72919.540230\n",
       "398    Male            33000  68410.000000\n",
       "399  Female            36000  68380.000000\n",
       "\n",
       "[400 rows x 3 columns]"
      ]
     },
     "execution_count": 19,
     "metadata": {},
     "output_type": "execute_result"
    }
   ],
   "source": [
    "data_loo = data_1.copy()\n",
    "\n",
    "from category_encoders import LeaveOneOutEncoder\n",
    "loo_encoder = LeaveOneOutEncoder()\n",
    "data_loo['Region'] = loo_encoder.fit_transform(data_loo['Region'],data_loo['EstimatedSalary'])\n",
    "data_loo "
   ]
  },
  {
   "cell_type": "markdown",
   "id": "4d9c24ed",
   "metadata": {},
   "source": [
    "### 6) Catboost Encoding"
   ]
  },
  {
   "cell_type": "code",
   "execution_count": 20,
   "id": "7ee8f37b",
   "metadata": {},
   "outputs": [
    {
     "data": {
      "text/html": [
       "<div>\n",
       "<style scoped>\n",
       "    .dataframe tbody tr th:only-of-type {\n",
       "        vertical-align: middle;\n",
       "    }\n",
       "\n",
       "    .dataframe tbody tr th {\n",
       "        vertical-align: top;\n",
       "    }\n",
       "\n",
       "    .dataframe thead th {\n",
       "        text-align: right;\n",
       "    }\n",
       "</style>\n",
       "<table border=\"1\" class=\"dataframe\">\n",
       "  <thead>\n",
       "    <tr style=\"text-align: right;\">\n",
       "      <th></th>\n",
       "      <th>Gender</th>\n",
       "      <th>EstimatedSalary</th>\n",
       "      <th>Region</th>\n",
       "    </tr>\n",
       "  </thead>\n",
       "  <tbody>\n",
       "    <tr>\n",
       "      <th>0</th>\n",
       "      <td>Male</td>\n",
       "      <td>19000</td>\n",
       "      <td>69742.500000</td>\n",
       "    </tr>\n",
       "    <tr>\n",
       "      <th>1</th>\n",
       "      <td>Male</td>\n",
       "      <td>20000</td>\n",
       "      <td>69742.500000</td>\n",
       "    </tr>\n",
       "    <tr>\n",
       "      <th>2</th>\n",
       "      <td>Female</td>\n",
       "      <td>43000</td>\n",
       "      <td>44871.250000</td>\n",
       "    </tr>\n",
       "    <tr>\n",
       "      <th>3</th>\n",
       "      <td>Female</td>\n",
       "      <td>57000</td>\n",
       "      <td>44247.500000</td>\n",
       "    </tr>\n",
       "    <tr>\n",
       "      <th>4</th>\n",
       "      <td>Male</td>\n",
       "      <td>76000</td>\n",
       "      <td>44371.250000</td>\n",
       "    </tr>\n",
       "    <tr>\n",
       "      <th>...</th>\n",
       "      <td>...</td>\n",
       "      <td>...</td>\n",
       "      <td>...</td>\n",
       "    </tr>\n",
       "    <tr>\n",
       "      <th>395</th>\n",
       "      <td>Female</td>\n",
       "      <td>41000</td>\n",
       "      <td>68456.353211</td>\n",
       "    </tr>\n",
       "    <tr>\n",
       "      <th>396</th>\n",
       "      <td>Male</td>\n",
       "      <td>23000</td>\n",
       "      <td>71301.397059</td>\n",
       "    </tr>\n",
       "    <tr>\n",
       "      <th>397</th>\n",
       "      <td>Female</td>\n",
       "      <td>20000</td>\n",
       "      <td>72883.437500</td>\n",
       "    </tr>\n",
       "    <tr>\n",
       "      <th>398</th>\n",
       "      <td>Male</td>\n",
       "      <td>33000</td>\n",
       "      <td>68747.425000</td>\n",
       "    </tr>\n",
       "    <tr>\n",
       "      <th>399</th>\n",
       "      <td>Female</td>\n",
       "      <td>36000</td>\n",
       "      <td>68393.490099</td>\n",
       "    </tr>\n",
       "  </tbody>\n",
       "</table>\n",
       "<p>400 rows × 3 columns</p>\n",
       "</div>"
      ],
      "text/plain": [
       "     Gender  EstimatedSalary        Region\n",
       "0      Male            19000  69742.500000\n",
       "1      Male            20000  69742.500000\n",
       "2    Female            43000  44871.250000\n",
       "3    Female            57000  44247.500000\n",
       "4      Male            76000  44371.250000\n",
       "..      ...              ...           ...\n",
       "395  Female            41000  68456.353211\n",
       "396    Male            23000  71301.397059\n",
       "397  Female            20000  72883.437500\n",
       "398    Male            33000  68747.425000\n",
       "399  Female            36000  68393.490099\n",
       "\n",
       "[400 rows x 3 columns]"
      ]
     },
     "execution_count": 20,
     "metadata": {},
     "output_type": "execute_result"
    }
   ],
   "source": [
    "data_cat = data_1.copy()\n",
    "\n",
    "from category_encoders import CatBoostEncoder\n",
    "catboost_encoder = CatBoostEncoder()\n",
    "data_cat['Region'] = catboost_encoder.fit_transform(data_cat['Region'],data_cat['EstimatedSalary'])\n",
    "data_cat"
   ]
  },
  {
   "cell_type": "markdown",
   "id": "f59d2486",
   "metadata": {},
   "source": [
    "# 2. 분류평가지표"
   ]
  },
  {
   "cell_type": "markdown",
   "id": "46d434c7",
   "metadata": {},
   "source": [
    "## 1. 모델 적합하기 - Logistic Regression"
   ]
  },
  {
   "cell_type": "code",
   "execution_count": 21,
   "id": "a57433a3",
   "metadata": {},
   "outputs": [],
   "source": [
    "#임의로 생성한 변수이므로 모델 적합할 때는 제거하겠습니다. \n",
    "data.drop(['Region_B', 'Region_C','Region_D'],axis=1,inplace=True)"
   ]
  },
  {
   "cell_type": "code",
   "execution_count": 22,
   "id": "a31a1c4c",
   "metadata": {},
   "outputs": [
    {
     "data": {
      "text/plain": [
       "Gender             int32\n",
       "EstimatedSalary    int64\n",
       "Purchased          int64\n",
       "group_Age          int32\n",
       "dtype: object"
      ]
     },
     "execution_count": 22,
     "metadata": {},
     "output_type": "execute_result"
    }
   ],
   "source": [
    "#사용할 데이터 확인\n",
    "data.dtypes"
   ]
  },
  {
   "cell_type": "code",
   "execution_count": 23,
   "id": "d73e5e0b",
   "metadata": {},
   "outputs": [],
   "source": [
    "#설명변수와 반응변수(Purchased) 분리\n",
    "x = data.iloc[:,data.columns != 'Purchased']\n",
    "y = data.iloc[:,data.columns == 'Purchased'] \n",
    "\n",
    "#train set과 validation set 구분 : train_test_split\n",
    "from sklearn.model_selection import train_test_split \n",
    "x_train, x_test, y_train, y_test = train_test_split(x, y, test_size=0.3) #7:3 \n",
    "\n",
    "# 변수 EstimatedSalary 스케일링 진행 - 이유는 밑에서 설명!\n",
    "from sklearn.preprocessing import StandardScaler\n",
    "scaler = StandardScaler()\n",
    "\n",
    "#train set\n",
    "x_scale_tr = scaler.fit_transform(x_train['EstimatedSalary'].values.reshape(-1,1))\n",
    "x_train.insert(0,'salary_scaled',x_scale_tr)\n",
    "x_train.drop(['EstimatedSalary'],axis=1,inplace=True)\n",
    "\n",
    "#test set\n",
    "x_scale_te = scaler.fit_transform(x_test['EstimatedSalary'].values.reshape(-1,1))\n",
    "x_test.insert(0,'salary_scaled',x_scale_te)\n",
    "x_test.drop(['EstimatedSalary'],axis=1,inplace=True)"
   ]
  },
  {
   "cell_type": "code",
   "execution_count": 24,
   "id": "6e045f1f",
   "metadata": {},
   "outputs": [
    {
     "data": {
      "text/html": [
       "<div>\n",
       "<style scoped>\n",
       "    .dataframe tbody tr th:only-of-type {\n",
       "        vertical-align: middle;\n",
       "    }\n",
       "\n",
       "    .dataframe tbody tr th {\n",
       "        vertical-align: top;\n",
       "    }\n",
       "\n",
       "    .dataframe thead th {\n",
       "        text-align: right;\n",
       "    }\n",
       "</style>\n",
       "<table border=\"1\" class=\"dataframe\">\n",
       "  <thead>\n",
       "    <tr style=\"text-align: right;\">\n",
       "      <th></th>\n",
       "      <th>salary_scaled</th>\n",
       "      <th>Gender</th>\n",
       "      <th>group_Age</th>\n",
       "    </tr>\n",
       "  </thead>\n",
       "  <tbody>\n",
       "    <tr>\n",
       "      <th>305</th>\n",
       "      <td>-0.445088</td>\n",
       "      <td>1</td>\n",
       "      <td>4</td>\n",
       "    </tr>\n",
       "    <tr>\n",
       "      <th>271</th>\n",
       "      <td>0.204152</td>\n",
       "      <td>0</td>\n",
       "      <td>6</td>\n",
       "    </tr>\n",
       "    <tr>\n",
       "      <th>86</th>\n",
       "      <td>-0.415577</td>\n",
       "      <td>1</td>\n",
       "      <td>1</td>\n",
       "    </tr>\n",
       "    <tr>\n",
       "      <th>247</th>\n",
       "      <td>1.561653</td>\n",
       "      <td>0</td>\n",
       "      <td>6</td>\n",
       "    </tr>\n",
       "    <tr>\n",
       "      <th>20</th>\n",
       "      <td>-1.389436</td>\n",
       "      <td>1</td>\n",
       "      <td>4</td>\n",
       "    </tr>\n",
       "    <tr>\n",
       "      <th>...</th>\n",
       "      <td>...</td>\n",
       "      <td>...</td>\n",
       "      <td>...</td>\n",
       "    </tr>\n",
       "    <tr>\n",
       "      <th>326</th>\n",
       "      <td>0.086109</td>\n",
       "      <td>1</td>\n",
       "      <td>4</td>\n",
       "    </tr>\n",
       "    <tr>\n",
       "      <th>43</th>\n",
       "      <td>-1.596012</td>\n",
       "      <td>1</td>\n",
       "      <td>2</td>\n",
       "    </tr>\n",
       "    <tr>\n",
       "      <th>311</th>\n",
       "      <td>0.794370</td>\n",
       "      <td>1</td>\n",
       "      <td>3</td>\n",
       "    </tr>\n",
       "    <tr>\n",
       "      <th>58</th>\n",
       "      <td>-1.507480</td>\n",
       "      <td>1</td>\n",
       "      <td>1</td>\n",
       "    </tr>\n",
       "    <tr>\n",
       "      <th>395</th>\n",
       "      <td>-0.828729</td>\n",
       "      <td>0</td>\n",
       "      <td>4</td>\n",
       "    </tr>\n",
       "  </tbody>\n",
       "</table>\n",
       "<p>280 rows × 3 columns</p>\n",
       "</div>"
      ],
      "text/plain": [
       "     salary_scaled  Gender  group_Age\n",
       "305      -0.445088       1          4\n",
       "271       0.204152       0          6\n",
       "86       -0.415577       1          1\n",
       "247       1.561653       0          6\n",
       "20       -1.389436       1          4\n",
       "..             ...     ...        ...\n",
       "326       0.086109       1          4\n",
       "43       -1.596012       1          2\n",
       "311       0.794370       1          3\n",
       "58       -1.507480       1          1\n",
       "395      -0.828729       0          4\n",
       "\n",
       "[280 rows x 3 columns]"
      ]
     },
     "execution_count": 24,
     "metadata": {},
     "output_type": "execute_result"
    }
   ],
   "source": [
    "x_train"
   ]
  },
  {
   "cell_type": "markdown",
   "id": "501963a5",
   "metadata": {},
   "source": [
    "#### +) Feature Scaling ####\n",
    "1) 정의 : 서로 다른 변수의 값 범위를 일정한 수준으로 맞추는 작업 <br>\n",
    "2) 필요성 : <br>\n",
    "-변수 값의 범위 또는 단위가 달라서 발생하는 문제 예방 <br>\n",
    "-머신 러닝 모델이 특정 데이터의 편향성을 가지는 걸 방지 <br>\n",
    "3) 종류 : <br>\n",
    "-표준화 = 평균 0, 분산 1을 따르는 가우시안 정규 분포를 가진 값으로 변화 (StandardScaler)<br>\n",
    "-정규화 = [0,1]사이의 분포를 지니도록 값을 조정 (MinMaxScaler)<br>\n",
    "\n",
    "4) 그렇다면 위의 경우 왜 StandardScaler를 사용한 것일까? <br>\n",
    "-로지스틱 회귀 ML 알고리즘은 수치형 변수의 경우 가우시안 분포를 지니고 있다고 가정을 하고 형성됨<br>\n",
    "즉, 해당 변수들에 대하여 표준화를 적용하는 것이 예측 성능 향상에 중요한 요소로 작용! <br>\n",
    "(이 외에도 표준화를 진행 해야 하는 경우 : Support Vector Machine, Linear Regression etc)\n",
    "\n",
    "5) 주의사항<br>\n",
    "위 경우처럼 train/test 분리할 시 feature scaling은 train/test는 분리 후 각 데이터 셋 별로 진행! "
   ]
  },
  {
   "cell_type": "code",
   "execution_count": 60,
   "id": "14af5fa8",
   "metadata": {},
   "outputs": [
    {
     "data": {
      "text/plain": [
       "array([0, 0, 0, 1, 1, 0, 0, 0, 1, 1, 1, 1, 0, 0, 0, 1, 0, 0, 0, 0, 0, 1,\n",
       "       0, 0, 0, 0, 0, 1, 0, 0, 1, 0, 1, 1, 0, 0, 0, 1, 1, 0, 0, 0, 1, 0,\n",
       "       1, 1, 0, 0, 0, 0, 0, 1, 0, 0, 0, 0, 1, 0, 0, 0, 1, 0, 0, 0, 1, 1,\n",
       "       0, 0, 0, 0, 0, 1, 0, 1, 1, 1, 1, 1, 0, 0, 0, 0, 0, 1, 1, 1, 1, 1,\n",
       "       0, 0, 0, 0, 0, 0, 0, 0, 0, 0, 0, 1, 0, 1, 1, 0, 0, 0, 0, 0, 0, 0,\n",
       "       0, 0, 0, 1, 0, 0, 0, 0, 1, 0], dtype=int64)"
      ]
     },
     "execution_count": 60,
     "metadata": {},
     "output_type": "execute_result"
    }
   ],
   "source": [
    "#로지스틱 회귀 모델 적합 \n",
    "from sklearn.linear_model import LogisticRegression \n",
    "l_re = LogisticRegression()\n",
    "\n",
    "#적합\n",
    "l_re.fit(x_train, y_train)\n",
    "#예측\n",
    "y_pred = l_re.predict(x_test) #validation set 통한 검증\n",
    "y_pred"
   ]
  },
  {
   "cell_type": "code",
   "execution_count": 62,
   "id": "90774e59",
   "metadata": {},
   "outputs": [
    {
     "name": "stdout",
     "output_type": "stream",
     "text": [
      "[[30 11]\n",
      " [ 8 71]]\n"
     ]
    }
   ],
   "source": [
    "#혼동행렬\n",
    "from sklearn.metrics import confusion_matrix\n",
    "matrix= confusion_matrix(y_test, y_pred,labels=[1,0]) \n",
    "print(matrix)"
   ]
  },
  {
   "cell_type": "code",
   "execution_count": 63,
   "id": "4373edf9",
   "metadata": {},
   "outputs": [
    {
     "name": "stdout",
     "output_type": "stream",
     "text": [
      "\n",
      "Accuracy : 0.8417 \n",
      "Precision : 0.7895 \n",
      "Recall : 0.7317 \n",
      "F1-Score : 0.7595 \n",
      "MCC : 0.6428\n"
     ]
    }
   ],
   "source": [
    "#평가지표\n",
    "from sklearn.metrics import accuracy_score, precision_score, recall_score, f1_score, matthews_corrcoef\n",
    "ac = accuracy_score(y_test, y_pred) #accuracy(정확도)\n",
    "pr = precision_score(y_test, y_pred) #precision(정밀도)\n",
    "rc = recall_score(y_test, y_pred) #recall(민감도)\n",
    "f1 = f1_score(y_test, y_pred) #F1-score\n",
    "mc = matthews_corrcoef(y_test, y_pred) #MCC(매튜상관계수)\n",
    "\n",
    "print(f'\\nAccuracy : {ac:.4f} \\nPrecision : {pr:.4f} \\nRecall : {rc:.4f} \\nF1-Score : {f1:.4f} \\nMCC : {mc:.4f}')"
   ]
  },
  {
   "cell_type": "code",
   "execution_count": 45,
   "id": "4c6ed507",
   "metadata": {},
   "outputs": [
    {
     "name": "stdout",
     "output_type": "stream",
     "text": [
      "      cutoff       fpr       tpr\n",
      "0   1.989741  0.000000  0.000000\n",
      "1   0.989741  0.000000  0.024390\n",
      "2   0.973075  0.000000  0.146341\n",
      "3   0.970282  0.000000  0.195122\n",
      "4   0.857291  0.000000  0.390244\n",
      "5   0.846129  0.000000  0.439024\n",
      "6   0.830593  0.012658  0.439024\n",
      "7   0.677736  0.012658  0.634146\n",
      "8   0.670299  0.025316  0.634146\n",
      "9   0.561855  0.050633  0.658537\n",
      "10  0.558614  0.063291  0.658537\n",
      "11  0.553502  0.063291  0.682927\n",
      "12  0.528285  0.088608  0.682927\n",
      "13  0.511388  0.088608  0.707317\n",
      "14  0.502924  0.101266  0.707317\n",
      "15  0.502922  0.101266  0.731707\n",
      "16  0.499635  0.113924  0.731707\n",
      "17  0.491173  0.113924  0.756098\n",
      "18  0.474265  0.139241  0.756098\n",
      "19  0.465831  0.177215  0.756098\n",
      "20  0.427266  0.177215  0.804878\n",
      "21  0.410782  0.189873  0.804878\n",
      "22  0.394496  0.189873  0.829268\n",
      "23  0.375354  0.202532  0.829268\n",
      "24  0.265578  0.202532  0.926829\n",
      "25  0.248693  0.215190  0.926829\n",
      "26  0.233892  0.253165  0.926829\n",
      "27  0.227880  0.265823  0.926829\n",
      "28  0.224258  0.291139  0.926829\n",
      "29  0.207084  0.316456  0.926829\n",
      "30  0.204932  0.329114  0.951220\n",
      "31  0.201579  0.354430  0.951220\n",
      "32  0.188877  0.367089  0.951220\n",
      "33  0.185727  0.367089  0.975610\n",
      "34  0.148189  0.417722  0.975610\n",
      "35  0.143966  0.443038  0.975610\n",
      "36  0.128066  0.481013  0.975610\n",
      "37  0.119304  0.481013  1.000000\n",
      "38  0.110323  0.506329  1.000000\n",
      "39  0.099555  0.531646  1.000000\n",
      "40  0.041084  0.670886  1.000000\n",
      "41  0.040276  0.696203  1.000000\n",
      "42  0.003370  1.000000  1.000000\n",
      "\n",
      "AUC : 0.9261\n"
     ]
    },
    {
     "data": {
      "image/png": "[encoded data removed]",
      "text/plain": [
       "<Figure size 432x288 with 1 Axes>"
      ]
     },
     "metadata": {
      "needs_background": "light"
     },
     "output_type": "display_data"
    }
   ],
   "source": [
    "from sklearn.metrics import roc_curve, roc_auc_score\n",
    "pred_pos_prob = l_re.predict_proba(x_test)[:, 1] #예측값이 1일 확률\n",
    "\n",
    "fpr, tpr, cutoff = roc_curve(y_test, pred_pos_prob) #각 확률을 cutoff point로 정해서 ROC 그림! \n",
    "\n",
    "#ROC곡선 \n",
    "df = {\"cutoff\":cutoff, \"fpr\":fpr, \"tpr\":tpr}\n",
    "df = pd.DataFrame.from_dict(df) #Dataframe 형태로 변환\n",
    "print(df)\n",
    "\n",
    "import seaborn as sns \n",
    "sns.lineplot(x=\"fpr\", y=\"tpr\", data=df) #시각화\n",
    "\n",
    "#AUC 계산\n",
    "auc = roc_auc_score(y_test, prob_positive_pred)\n",
    "print(f'\\nAUC : {auc:.4f}')"
   ]
  },
  {
   "cell_type": "markdown",
   "id": "87fc30e2",
   "metadata": {},
   "source": [
    "# 3. 샘플링"
   ]
  },
  {
   "cell_type": "markdown",
   "id": "6d1a376b",
   "metadata": {},
   "source": [
    "- **앞에서 쓰인 변수들과 이름이 겹치기에 변수를 초기화하기 위해 위 Kernel-Restart를 진행하고 아래 코드를 실행시켜주세요 :)**"
   ]
  },
  {
   "cell_type": "code",
   "execution_count": null,
   "id": "bbac05ce",
   "metadata": {},
   "outputs": [],
   "source": [
    "import pandas as pd  \n",
    "import os\n",
    "import numpy as np\n",
    "import seaborn as sns"
   ]
  },
  {
   "cell_type": "code",
   "execution_count": null,
   "id": "422969f7",
   "metadata": {},
   "outputs": [],
   "source": [
    "import warnings  \n",
    "warnings.filterwarnings(action=\"ignore\")"
   ]
  },
  {
   "cell_type": "code",
   "execution_count": 1,
   "id": "eebb9ab5",
   "metadata": {},
   "outputs": [
    {
     "data": {
      "text/html": [
       "<div>\n",
       "<style scoped>\n",
       "    .dataframe tbody tr th:only-of-type {\n",
       "        vertical-align: middle;\n",
       "    }\n",
       "\n",
       "    .dataframe tbody tr th {\n",
       "        vertical-align: top;\n",
       "    }\n",
       "\n",
       "    .dataframe thead th {\n",
       "        text-align: right;\n",
       "    }\n",
       "</style>\n",
       "<table border=\"1\" class=\"dataframe\">\n",
       "  <thead>\n",
       "    <tr style=\"text-align: right;\">\n",
       "      <th></th>\n",
       "      <th>isFraud</th>\n",
       "      <th>TransactionAmt</th>\n",
       "      <th>card1</th>\n",
       "    </tr>\n",
       "  </thead>\n",
       "  <tbody>\n",
       "    <tr>\n",
       "      <th>0</th>\n",
       "      <td>0</td>\n",
       "      <td>68.50</td>\n",
       "      <td>13926</td>\n",
       "    </tr>\n",
       "    <tr>\n",
       "      <th>1</th>\n",
       "      <td>0</td>\n",
       "      <td>29.00</td>\n",
       "      <td>2755</td>\n",
       "    </tr>\n",
       "    <tr>\n",
       "      <th>2</th>\n",
       "      <td>0</td>\n",
       "      <td>59.00</td>\n",
       "      <td>4663</td>\n",
       "    </tr>\n",
       "    <tr>\n",
       "      <th>3</th>\n",
       "      <td>0</td>\n",
       "      <td>50.00</td>\n",
       "      <td>18132</td>\n",
       "    </tr>\n",
       "    <tr>\n",
       "      <th>4</th>\n",
       "      <td>0</td>\n",
       "      <td>50.00</td>\n",
       "      <td>4497</td>\n",
       "    </tr>\n",
       "    <tr>\n",
       "      <th>...</th>\n",
       "      <td>...</td>\n",
       "      <td>...</td>\n",
       "      <td>...</td>\n",
       "    </tr>\n",
       "    <tr>\n",
       "      <th>590535</th>\n",
       "      <td>0</td>\n",
       "      <td>49.00</td>\n",
       "      <td>6550</td>\n",
       "    </tr>\n",
       "    <tr>\n",
       "      <th>590536</th>\n",
       "      <td>0</td>\n",
       "      <td>39.50</td>\n",
       "      <td>10444</td>\n",
       "    </tr>\n",
       "    <tr>\n",
       "      <th>590537</th>\n",
       "      <td>0</td>\n",
       "      <td>30.95</td>\n",
       "      <td>12037</td>\n",
       "    </tr>\n",
       "    <tr>\n",
       "      <th>590538</th>\n",
       "      <td>0</td>\n",
       "      <td>117.00</td>\n",
       "      <td>7826</td>\n",
       "    </tr>\n",
       "    <tr>\n",
       "      <th>590539</th>\n",
       "      <td>0</td>\n",
       "      <td>279.95</td>\n",
       "      <td>15066</td>\n",
       "    </tr>\n",
       "  </tbody>\n",
       "</table>\n",
       "<p>590540 rows × 3 columns</p>\n",
       "</div>"
      ],
      "text/plain": [
       "        isFraud  TransactionAmt  card1\n",
       "0             0           68.50  13926\n",
       "1             0           29.00   2755\n",
       "2             0           59.00   4663\n",
       "3             0           50.00  18132\n",
       "4             0           50.00   4497\n",
       "...         ...             ...    ...\n",
       "590535        0           49.00   6550\n",
       "590536        0           39.50  10444\n",
       "590537        0           30.95  12037\n",
       "590538        0          117.00   7826\n",
       "590539        0          279.95  15066\n",
       "\n",
       "[590540 rows x 3 columns]"
      ]
     },
     "execution_count": 1,
     "metadata": {},
     "output_type": "execute_result"
    }
   ],
   "source": [
    "#본인 주소 설정해주기\n",
    "os.chdir(\"C://Users//user//Desktop/크롬드라이버/\") \n",
    "\n",
    "data_sample = pd.read_csv('transaction_sample.csv') \n",
    "data_sample"
   ]
  },
  {
   "cell_type": "code",
   "execution_count": 2,
   "id": "d39746cd",
   "metadata": {},
   "outputs": [
    {
     "name": "stderr",
     "output_type": "stream",
     "text": [
      "C:\\Users\\user\\anaconda3\\lib\\site-packages\\seaborn\\_decorators.py:36: FutureWarning: Pass the following variable as a keyword arg: x. From version 0.12, the only valid positional argument will be `data`, and passing other arguments without an explicit keyword will result in an error or misinterpretation.\n",
      "  warnings.warn(\n"
     ]
    },
    {
     "data": {
      "text/plain": [
       "<AxesSubplot:xlabel='isFraud', ylabel='count'>"
      ]
     },
     "execution_count": 2,
     "metadata": {},
     "output_type": "execute_result"
    },
    {
     "data": {
      "image/png": "[encoded data removed]",
      "text/plain": [
       "<Figure size 432x288 with 1 Axes>"
      ]
     },
     "metadata": {
      "needs_background": "light"
     },
     "output_type": "display_data"
    }
   ],
   "source": [
    "#설명변수와 반응변수 분리\n",
    "y = data_sample['isFraud']\n",
    "x = data_sample.drop(['isFraud'],axis=1)\n",
    "\n",
    "#Y의 분포 확인 - 불균형 데이터!\n",
    "sns.countplot(y) "
   ]
  },
  {
   "cell_type": "markdown",
   "id": "b6bb528a",
   "metadata": {},
   "source": [
    "## 1. Under Sampling"
   ]
  },
  {
   "cell_type": "markdown",
   "id": "5d426288",
   "metadata": {},
   "source": [
    "### 1) Random Under Sampling"
   ]
  },
  {
   "cell_type": "code",
   "execution_count": 100,
   "id": "b4ef8aac",
   "metadata": {},
   "outputs": [
    {
     "name": "stdout",
     "output_type": "stream",
     "text": [
      "Sampling 전:  569877 \n",
      "Sampling 후:  20663\n"
     ]
    },
    {
     "data": {
      "text/plain": [
       "<AxesSubplot:xlabel='isFraud', ylabel='count'>"
      ]
     },
     "execution_count": 100,
     "metadata": {},
     "output_type": "execute_result"
    },
    {
     "data": {
      "image/png": "[encoded data removed]",
      "text/plain": [
       "<Figure size 432x288 with 1 Axes>"
      ]
     },
     "metadata": {
      "needs_background": "light"
     },
     "output_type": "display_data"
    }
   ],
   "source": [
    "from imblearn.under_sampling import RandomUnderSampler\n",
    "random_und_x, random_und_y = RandomUnderSampler(random_state = 10).fit_resample(x, y) # random_state는 R의 seed()와 같음! \n",
    "random_und = pd.concat([random_und_y,random_und_x],axis=1)\n",
    "\n",
    "print('Sampling 전 0: ',sum(y==0) ,'\\nSampling 후 0: ',sum(random_und['isFraud']==0))\n",
    "sns.countplot(random_und['isFraud']) "
   ]
  },
  {
   "cell_type": "markdown",
   "id": "a10e64ec",
   "metadata": {},
   "source": [
    "### 2) Tomek Links"
   ]
  },
  {
   "cell_type": "code",
   "execution_count": 102,
   "id": "ebcd0475",
   "metadata": {},
   "outputs": [
    {
     "name": "stdout",
     "output_type": "stream",
     "text": [
      "Sampling 전:  569877 \n",
      "Sampling 후 :  567964\n"
     ]
    },
    {
     "data": {
      "text/plain": [
       "<AxesSubplot:xlabel='isFraud', ylabel='count'>"
      ]
     },
     "execution_count": 102,
     "metadata": {},
     "output_type": "execute_result"
    },
    {
     "data": {
      "image/png": "[encoded data removed]",
      "text/plain": [
       "<Figure size 432x288 with 1 Axes>"
      ]
     },
     "metadata": {
      "needs_background": "light"
     },
     "output_type": "display_data"
    }
   ],
   "source": [
    "from imblearn.under_sampling import TomekLinks\n",
    "\n",
    "TLinks_x, TLinks_y = TomekLinks().fit_resample(x, y)\n",
    "TLinks = pd.concat([TLinks_y,TLinks_x],axis=1)\n",
    "\n",
    "print('Sampling 전 0: ',sum(y==0) ,'\\nSampling 후 0: ',sum(TLinks['isFraud']==0))\n",
    "sns.countplot(TLinks['isFraud'])\n",
    "\n",
    "#Tomek Link로 묶인 두 클래스의 데이터 중 majority에 해당하는 데이터만 제거\n",
    "#즉, 두 데이터 간 경계에 있는 노이즈 데이터만 제거하기에 많은 수의 데이터가 줄진 않음\n",
    "#해당 기법만 사용하면 좋은 성능을 보이지 않기에 보통 다른 기법과 결합해서 사용"
   ]
  },
  {
   "cell_type": "markdown",
   "id": "63babe0f",
   "metadata": {},
   "source": [
    "## 2. Over Sampling"
   ]
  },
  {
   "cell_type": "markdown",
   "id": "b377943c",
   "metadata": {},
   "source": [
    "### 1) Random Over Sampling"
   ]
  },
  {
   "cell_type": "code",
   "execution_count": 104,
   "id": "fe94fc1f",
   "metadata": {},
   "outputs": [
    {
     "name": "stdout",
     "output_type": "stream",
     "text": [
      "Sampling 전 1 :  20663 \n",
      "Sampling 후 1 :  569877\n"
     ]
    },
    {
     "data": {
      "text/plain": [
       "<AxesSubplot:xlabel='isFraud', ylabel='count'>"
      ]
     },
     "execution_count": 104,
     "metadata": {},
     "output_type": "execute_result"
    },
    {
     "data": {
      "image/png": "[encoded data removed]",
      "text/plain": [
       "<Figure size 432x288 with 1 Axes>"
      ]
     },
     "metadata": {
      "needs_background": "light"
     },
     "output_type": "display_data"
    }
   ],
   "source": [
    "from imblearn.over_sampling import RandomOverSampler\n",
    "random_over_x, random_over_y = RandomOverSampler(random_state = 10).fit_resample(x, y) \n",
    "random_over = pd.concat([random_over_y,random_over_x],axis=1)\n",
    "\n",
    "print('Sampling 전 1 : ',sum(y==1) ,'\\nSampling 후 1 : ',sum(random_over['isFraud']==1))\n",
    "sns.countplot(random_over['isFraud']) "
   ]
  },
  {
   "cell_type": "markdown",
   "id": "b932f694",
   "metadata": {},
   "source": [
    "### 2) SMOTE"
   ]
  },
  {
   "cell_type": "code",
   "execution_count": 106,
   "id": "1bae218e",
   "metadata": {
    "scrolled": true
   },
   "outputs": [
    {
     "name": "stdout",
     "output_type": "stream",
     "text": [
      "Sampling 전 1 :  20663 \n",
      "Sampling 후 1 :  569877\n"
     ]
    },
    {
     "data": {
      "text/plain": [
       "<AxesSubplot:xlabel='isFraud', ylabel='count'>"
      ]
     },
     "execution_count": 106,
     "metadata": {},
     "output_type": "execute_result"
    },
    {
     "data": {
      "image/png": "[encoded data removed]",
      "text/plain": [
       "<Figure size 432x288 with 1 Axes>"
      ]
     },
     "metadata": {
      "needs_background": "light"
     },
     "output_type": "display_data"
    }
   ],
   "source": [
    "from imblearn.over_sampling import SMOTE\n",
    "smote_x, smote_y = SMOTE().fit_resample(x, y) \n",
    "smote = pd.concat([smote_y,smote_x],axis=1)\n",
    "\n",
    "print('Sampling 전 1 : ',sum(y==1) ,'\\nSampling 후 1 : ',sum(smote['isFraud']==1))\n",
    "sns.countplot(smote['isFraud']) "
   ]
  }
 ],
 "metadata": {
  "kernelspec": {
   "display_name": "Python 3",
   "language": "python",
   "name": "python3"
  },
  "language_info": {
   "codemirror_mode": {
    "name": "ipython",
    "version": 3
   },
   "file_extension": ".py",
   "mimetype": "text/x-python",
   "name": "python",
   "nbconvert_exporter": "python",
   "pygments_lexer": "ipython3",
   "version": "3.8.8"
  }
 },
 "nbformat": 4,
 "nbformat_minor": 5
}
